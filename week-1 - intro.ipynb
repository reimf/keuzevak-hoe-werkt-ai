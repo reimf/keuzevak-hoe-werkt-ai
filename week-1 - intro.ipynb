{
  "cells": [
    {
      "cell_type": "markdown",
      "metadata": {},
      "source": [
        "# Inleiding tot Kunstmatige Intelligentie: Concepten, Geschiedenis en Toepassingen"
      ]
    },
    {
      "cell_type": "markdown",
      "metadata": {},
      "source": [
        "## Wat is AI?"
      ]
    },
    {
      "cell_type": "markdown",
      "metadata": {},
      "source": [
        "Definitie van AI: \n",
        "Kunstmatige Intelligentie verwijst naar machines die in staat zijn om te \"denken\" en problemen op te lossen zoals mensen dat doen, hoewel het in veel gevallen om gesimuleerde intelligentie gaat.\n",
        "\n",
        "Voorbeelden van AI zijn:\n",
        "-ChatGPT\n",
        "-schaakspel AI\n",
        "\n"
      ]
    },
    {
      "cell_type": "markdown",
      "metadata": {},
      "source": [
        "### Opdracht 1: \n",
        "Bedenk op zijn minst 3 andere AI toepassingen die je kent. (5 min) Deze gaan we bespreken in de klas."
      ]
    },
    {
      "cell_type": "markdown",
      "metadata": {},
      "source": [
        "## Geschiedenis van AI"
      ]
    },
    {
      "cell_type": "markdown",
      "metadata": {},
      "source": [
        "Eerste ideeën en grondleggers:\n",
        "Alan Turing (1950): De Turing-test werd geïntroduceerd om te bepalen of een machine intelligent gedrag vertoont dat niet te onderscheiden is van dat van een mens.\n",
        "\n",
        "John McCarthy (1956): Hij wordt beschouwd als de grondlegger van AI en muntte de term \"kunstmatige intelligentie\" tijdens de Dartmouth-conferentie, die wordt beschouwd als het startpunt van AI als vakgebied."
      ]
    },
    {
      "cell_type": "markdown",
      "metadata": {},
      "source": [
        "### Opdracht 2. \n",
        "\n",
        "TuringTest Probeer een gesprek te houden met chatGPT zonder uitdrukkelijk te vragen of het chatGPT is. Hoe lang kun je en gesprek voeren zonder door te hebben dat het om AI gaat? Is de Turingtest geslaagd?"
      ]
    },
    {
      "cell_type": "markdown",
      "metadata": {},
      "source": [
        "## Kernconcepten van AI"
      ]
    },
    {
      "cell_type": "markdown",
      "metadata": {},
      "source": []
    },
    {
      "cell_type": "markdown",
      "metadata": {},
      "source": [
        "\n",
        "Key Points to Cover:\n",
        "What is AI?\n",
        "\n",
        "Definition and different interpretations of AI (weak AI vs. strong AI)\n",
        "Types of AI: Narrow AI, General AI, Superintelligent AI\n",
        "History of AI\n",
        "\n",
        "Key milestones in AI development\n",
        "Foundational figures: Alan Turing, John McCarthy, etc.\n",
        "Early AI systems (e.g., ELIZA) and their limitations\n",
        "Key Concepts in AI\n",
        "\n",
        "Machine learning, deep learning, and neural networks\n",
        "Data, algorithms, and models\n",
        "Supervised, unsupervised, and reinforcement learning\n",
        "Applications of AI\n",
        "\n",
        "Real-world use cases: healthcare, finance, robotics, natural language processing, etc.\n",
        "AI in everyday life (e.g., virtual assistants, recommendation systems)\n",
        "Ethical Considerations\n",
        "\n",
        "AI and its impact on society: biases, automation, and job displacement\n",
        "Ethical frameworks for developing AI responsibly\n",
        "Current State of AI\n",
        "\n",
        "The role of AI in modern technology: ChatGPT, AlphaGo, autonomous driving\n",
        "Challenges and limitations of current AI\n",
        "The Future of AI\n",
        "\n",
        "Where AI is headed: opportunities and risks\n",
        "AI in fields like quantum computing and AGI (Artificial General Intelligence)\n",
        "This subject covers the fundamentals, the historical context, practical applications, and ethical concerns, providing a comprehensive introduction to AI."
      ]
    }
  ],
  "metadata": {
    "colab": {
      "provenance": []
    },
    "kernelspec": {
      "display_name": "Python 3",
      "name": "python3"
    },
    "language_info": {
      "codemirror_mode": {
        "name": "ipython",
        "version": 3
      },
      "file_extension": ".py",
      "mimetype": "text/x-python",
      "name": "python",
      "nbconvert_exporter": "python",
      "pygments_lexer": "ipython3",
      "version": "3.12.3"
    }
  },
  "nbformat": 4,
  "nbformat_minor": 0
}
